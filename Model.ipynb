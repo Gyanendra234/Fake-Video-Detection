{
 "cells": [
  {
   "cell_type": "code",
   "execution_count": 1,
   "id": "1a69b1b1-9780-4410-b5b5-22ffd20ecdf5",
   "metadata": {},
   "outputs": [],
   "source": [
    "import os\n",
    "import torch\n",
    "import torch.nn as nn\n",
    "import torch.optim as optim\n",
    "from torch.utils.data import DataLoader, random_split\n",
    "from torchvision import datasets, transforms, models\n",
    "from sklearn.metrics import classification_report, confusion_matrix\n",
    "import matplotlib.pyplot as plt\n",
    "import numpy as np\n",
    "\n",
    "# -------- Step 1: Set Paths --------\n",
    "data_dir = 'E:/Downloads/extracted_faces'  # Folder with 'real' and 'fake' subfolders"
   ]
  },
  {
   "cell_type": "code",
   "execution_count": 2,
   "id": "ffcd67da-a039-4f61-84f4-bd9c4d354430",
   "metadata": {},
   "outputs": [],
   "source": [
    "transform = transforms.Compose([\n",
    "    transforms.Resize((160, 160)),\n",
    "    transforms.ToTensor(),\n",
    "    transforms.Normalize([0.5], [0.5])  # Normalize to [-1, 1]\n",
    "])"
   ]
  },
  {
   "cell_type": "code",
   "execution_count": 3,
   "id": "670c262f-274c-4a6a-a08a-e80ad3647a78",
   "metadata": {},
   "outputs": [
    {
     "name": "stdout",
     "output_type": "stream",
     "text": [
      "Classes: ['fake', 'real']\n"
     ]
    }
   ],
   "source": [
    "dataset = datasets.ImageFolder(root=data_dir, transform=transform)\n",
    "class_names = dataset.classes  # ['fake', 'real']\n",
    "print(f\"Classes: {class_names}\")"
   ]
  },
  {
   "cell_type": "code",
   "execution_count": 4,
   "id": "1d3bc088-682b-4842-89c1-d196c9196e12",
   "metadata": {},
   "outputs": [],
   "source": [
    "train_size = int(0.8 * len(dataset))\n",
    "val_size = len(dataset) - train_size\n",
    "train_dataset, val_dataset = random_split(dataset, [train_size, val_size])\n",
    "\n",
    "train_loader = DataLoader(train_dataset, batch_size=32, shuffle=True)\n",
    "val_loader = DataLoader(val_dataset, batch_size=32, shuffle=False)"
   ]
  },
  {
   "cell_type": "code",
   "execution_count": 6,
   "id": "26802cd9-830d-48cd-86c3-b959bf0f5cd5",
   "metadata": {},
   "outputs": [],
   "source": [
    "model = models.resnet18(pretrained=True)\n",
    "model.fc = nn.Linear(model.fc.in_features, 2)  # 2 classes: real and fake\n",
    "\n",
    "device = torch.device('cuda' if torch.cuda.is_available() else 'cpu')\n",
    "model = model.to(device)\n"
   ]
  },
  {
   "cell_type": "code",
   "execution_count": 7,
   "id": "a8e3a202-9a82-4c35-beb4-07005a777646",
   "metadata": {
    "scrolled": true
   },
   "outputs": [
    {
     "name": "stdout",
     "output_type": "stream",
     "text": [
      "Epoch 1/10, Loss: 87.6529\n",
      "Epoch 2/10, Loss: 52.4245\n",
      "Epoch 3/10, Loss: 51.3112\n",
      "Epoch 4/10, Loss: 50.4363\n",
      "Epoch 5/10, Loss: 54.3824\n",
      "Epoch 6/10, Loss: 53.9632\n",
      "Epoch 7/10, Loss: 48.7617\n",
      "Epoch 8/10, Loss: 45.9872\n",
      "Epoch 9/10, Loss: 45.7583\n",
      "Epoch 10/10, Loss: 50.1953\n"
     ]
    }
   ],
   "source": [
    "criterion = nn.CrossEntropyLoss()\n",
    "optimizer = optim.Adam(model.parameters(), lr=0.0001)\n",
    "\n",
    "epochs = 10\n",
    "for epoch in range(epochs):\n",
    "    model.train()\n",
    "    total_loss = 0\n",
    "    for images, labels in train_loader:\n",
    "        images, labels = images.to(device), labels.to(device)\n",
    "        outputs = model(images)\n",
    "        loss = criterion(outputs, labels)\n",
    "\n",
    "        optimizer.zero_grad()\n",
    "        loss.backward()\n",
    "        optimizer.step()\n",
    "\n",
    "        total_loss += loss.item()\n",
    "\n",
    "    print(f\"Epoch {epoch+1}/{epochs}, Loss: {total_loss:.4f}\")"
   ]
  },
  {
   "cell_type": "code",
   "execution_count": 12,
   "id": "53aac533-f528-4caa-8a9c-59fcfb8b2306",
   "metadata": {},
   "outputs": [],
   "source": [
    "torch.save(model.state_dict(), 'deepfake_model.pth')\n"
   ]
  },
  {
   "cell_type": "code",
   "execution_count": 17,
   "id": "00d50fac-0f65-4b9f-bdb6-4833a24959ae",
   "metadata": {},
   "outputs": [
    {
     "name": "stdout",
     "output_type": "stream",
     "text": [
      "[INFO] real: 9376 train, 2344 test\n",
      "[INFO] fake: 9864 train, 2467 test\n"
     ]
    }
   ],
   "source": [
    "import os\n",
    "import shutil\n",
    "import random\n",
    "\n",
    "def split_dataset(source_dir, train_dir, test_dir, split_ratio=0.8):\n",
    "    for label in ['real', 'fake']:\n",
    "        source_path = os.path.join(source_dir, label)\n",
    "        train_path = os.path.join(train_dir, label)\n",
    "        test_path = os.path.join(test_dir, label)\n",
    "        os.makedirs(train_path, exist_ok=True)\n",
    "        os.makedirs(test_path, exist_ok=True)\n",
    "\n",
    "        all_images = []\n",
    "        for root, _, files in os.walk(source_path):\n",
    "            for file in files:\n",
    "                if file.lower().endswith(('.jpg', '.png')):\n",
    "                    all_images.append(os.path.join(root, file))\n",
    "\n",
    "        random.shuffle(all_images)\n",
    "        split_index = int(len(all_images) * split_ratio)\n",
    "\n",
    "        for i, img_path in enumerate(all_images):\n",
    "            if i < split_index:\n",
    "                shutil.copy(img_path, train_path)\n",
    "            else:\n",
    "                shutil.copy(img_path, test_path)\n",
    "\n",
    "        print(f\"[INFO] {label}: {split_index} train, {len(all_images)-split_index} test\")\n",
    "\n",
    "# Example usage:\n",
    "split_dataset(\n",
    "    source_dir='E:/Downloads/extracted_faces',\n",
    "    train_dir='E:/Downloads/dataset/train',\n",
    "    test_dir='E:/Downloads/dataset/test',\n",
    "    split_ratio=0.8\n",
    ")\n"
   ]
  },
  {
   "cell_type": "code",
   "execution_count": 22,
   "id": "3f7b1dc6-9605-4b59-a8fa-1f33dddc0a07",
   "metadata": {},
   "outputs": [],
   "source": [
    "from torchvision import datasets, transforms\n",
    "from torch.utils.data import DataLoader\n",
    "\n",
    "# Image transformation (same as used during training)\n",
    "transform = transforms.Compose([\n",
    "    transforms.Resize((160, 160)),\n",
    "    transforms.ToTensor()\n",
    "])\n",
    "\n",
    "# Load test dataset\n",
    "test_dataset = datasets.ImageFolder(root='E:/downloads/dataset/test', transform=transform)\n",
    "test_loader = DataLoader(test_dataset, batch_size=32, shuffle=False)\n"
   ]
  },
  {
   "cell_type": "code",
   "execution_count": 24,
   "id": "761084c8-9355-4611-a07f-559dae866663",
   "metadata": {},
   "outputs": [
    {
     "name": "stdout",
     "output_type": "stream",
     "text": [
      "Test Accuracy: 61.48%\n"
     ]
    }
   ],
   "source": [
    "model.eval()\n",
    "correct = 0\n",
    "total = 0\n",
    "\n",
    "with torch.no_grad():\n",
    "    for images, labels in test_loader:\n",
    "        images, labels = images.to(device), labels.to(device)\n",
    "        outputs = model(images)\n",
    "        _, predicted = torch.max(outputs.data, 1)\n",
    "        total += labels.size(0)\n",
    "        correct += (predicted == labels).sum().item()\n",
    "\n",
    "print(f\"Test Accuracy: {100 * correct / total:.2f}%\")\n"
   ]
  },
  {
   "cell_type": "code",
   "execution_count": 27,
   "id": "a1e1391e-587d-449c-9fba-dc6d5f56af7c",
   "metadata": {},
   "outputs": [
    {
     "name": "stdout",
     "output_type": "stream",
     "text": [
      "Confusion Matrix:\n",
      "[[122   7]\n",
      " [ 92  36]]\n",
      "\n",
      "Classification Report:\n",
      "              precision    recall  f1-score   support\n",
      "\n",
      "        fake       0.57      0.95      0.71       129\n",
      "        real       0.84      0.28      0.42       128\n",
      "\n",
      "    accuracy                           0.61       257\n",
      "   macro avg       0.70      0.61      0.57       257\n",
      "weighted avg       0.70      0.61      0.57       257\n",
      "\n"
     ]
    }
   ],
   "source": [
    "from sklearn.metrics import classification_report, confusion_matrix\n",
    "import numpy as np\n",
    "\n",
    "all_preds = []\n",
    "all_labels = []\n",
    "\n",
    "with torch.no_grad():\n",
    "    for images, labels in test_loader:\n",
    "        images = images.to(device)\n",
    "        outputs = model(images)\n",
    "        _, predicted = torch.max(outputs, 1)\n",
    "        all_preds.extend(predicted.cpu().numpy())\n",
    "        all_labels.extend(labels.numpy())\n",
    "\n",
    "print(\"Confusion Matrix:\")\n",
    "print(confusion_matrix(all_labels, all_preds))\n",
    "print(\"\\nClassification Report:\")\n",
    "print(classification_report(all_labels, all_preds, target_names=class_names))\n"
   ]
  },
  {
   "cell_type": "code",
   "execution_count": 30,
   "id": "fe1aa2ad-a30b-462b-a5a1-ad35ab858226",
   "metadata": {},
   "outputs": [],
   "source": [
    "torch.save(model.state_dict(), 'deepfake_model.pth')\n"
   ]
  }
 ],
 "metadata": {
  "kernelspec": {
   "display_name": "Python 3 (ipykernel)",
   "language": "python",
   "name": "python3"
  },
  "language_info": {
   "codemirror_mode": {
    "name": "ipython",
    "version": 3
   },
   "file_extension": ".py",
   "mimetype": "text/x-python",
   "name": "python",
   "nbconvert_exporter": "python",
   "pygments_lexer": "ipython3",
   "version": "3.10.16"
  }
 },
 "nbformat": 4,
 "nbformat_minor": 5
}
